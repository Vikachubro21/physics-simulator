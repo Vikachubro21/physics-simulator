{
 "cells": [
  {
   "cell_type": "code",
   "execution_count": 50,
   "id": "28a59583",
   "metadata": {},
   "outputs": [
    {
     "name": "stdout",
     "output_type": "stream",
     "text": [
      "done\n"
     ]
    }
   ],
   "source": [
    "from ipycanvas import MultiCanvas, hold_canvas\n",
    "from time import sleep\n",
    "print(\"done\")"
   ]
  },
  {
   "cell_type": "code",
   "execution_count": 78,
   "id": "8ad7b467",
   "metadata": {},
   "outputs": [
    {
     "data": {
      "application/vnd.jupyter.widget-view+json": {
       "model_id": "20de32171c264f97971c7d7aa267183f",
       "version_major": 2,
       "version_minor": 0
      },
      "text/plain": [
       "MultiCanvas(height=200, width=200)"
      ]
     },
     "metadata": {},
     "output_type": "display_data"
    },
    {
     "ename": "KeyboardInterrupt",
     "evalue": "",
     "output_type": "error",
     "traceback": [
      "\u001b[1;31m---------------------------------------------------------------------------\u001b[0m",
      "\u001b[1;31mKeyboardInterrupt\u001b[0m                         Traceback (most recent call last)",
      "\u001b[1;32m<ipython-input-78-6d44720f3950>\u001b[0m in \u001b[0;36m<module>\u001b[1;34m\u001b[0m\n\u001b[0;32m     29\u001b[0m         \u001b[0my\u001b[0m \u001b[1;33m=\u001b[0m \u001b[0my\u001b[0m\u001b[1;33m+\u001b[0m\u001b[1;33m(\u001b[0m\u001b[1;36m2\u001b[0m \u001b[1;33m*\u001b[0m \u001b[0myvel\u001b[0m \u001b[1;33m+\u001b[0m \u001b[0myaccel\u001b[0m\u001b[1;33m)\u001b[0m\u001b[1;33m/\u001b[0m\u001b[1;36m2\u001b[0m\u001b[1;33m\u001b[0m\u001b[1;33m\u001b[0m\u001b[0m\n\u001b[0;32m     30\u001b[0m         \u001b[0myvel\u001b[0m \u001b[1;33m=\u001b[0m \u001b[0myvel\u001b[0m \u001b[1;33m+\u001b[0m \u001b[0myaccel\u001b[0m\u001b[1;33m\u001b[0m\u001b[1;33m\u001b[0m\u001b[0m\n\u001b[1;32m---> 31\u001b[1;33m     \u001b[0msleep\u001b[0m\u001b[1;33m(\u001b[0m\u001b[1;36m0.01\u001b[0m\u001b[1;33m)\u001b[0m\u001b[1;33m\u001b[0m\u001b[1;33m\u001b[0m\u001b[0m\n\u001b[0m",
      "\u001b[1;31mKeyboardInterrupt\u001b[0m: "
     ]
    }
   ],
   "source": [
    "canvas = MultiCanvas(2, width=200, height=200)\n",
    "display(canvas)\n",
    "canvas_size_x = 200\n",
    "canvas_size_y = 200\n",
    "x = 100\n",
    "y = 15\n",
    "radius = 10\n",
    "xvel = 0\n",
    "yvel = 0\n",
    "xaccel = .1\n",
    "yaccel = .3\n",
    "canvas[0].fill_rect(0,0,canvas_size_x,canvas_size_y)\n",
    "while (True):\n",
    "    with hold_canvas(canvas):\n",
    "        canvas[1].clear()\n",
    "        canvas[1].fill_style = '#00FFFF'\n",
    "        canvas[1].fill_circle(x, y, radius)\n",
    "        if(x + xvel > canvas_size_x - radius):\n",
    "            xvel = -xvel\n",
    "            x = canvas_size_x - radius - (x-xvel-canvas_size_x + radius)\n",
    "        elif(x + xvel < radius):\n",
    "            xvel = -xvel\n",
    "            x = radius - (x + xvel - radius)\n",
    "        else:\n",
    "            x = x + xvel\n",
    "        xvel = xvel + xaccel\n",
    "        if (y+(2 * yvel + yaccel)/2 > 190):\n",
    "            yvel = -1 * yvel\n",
    "        y = y+(2 * yvel + yaccel)/2\n",
    "        yvel = yvel + yaccel\n",
    "    sleep(0.01)"
   ]
  },
  {
   "cell_type": "code",
   "execution_count": null,
   "id": "0ce92895",
   "metadata": {},
   "outputs": [],
   "source": []
  },
  {
   "cell_type": "code",
   "execution_count": null,
   "id": "e0e622fc",
   "metadata": {},
   "outputs": [],
   "source": []
  }
 ],
 "metadata": {
  "kernelspec": {
   "display_name": "Python 3",
   "language": "python",
   "name": "python3"
  }
 },
 "nbformat": 4,
 "nbformat_minor": 5
}
